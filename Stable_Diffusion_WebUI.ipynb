{
  "nbformat": 4,
  "nbformat_minor": 0,
  "metadata": {
    "colab": {
      "provenance": [],
      "gpuType": "T4",
      "authorship_tag": "ABX9TyPzWSa/p+BW+oIZD3jC4jwq",
      "include_colab_link": true
    },
    "kernelspec": {
      "name": "python3",
      "display_name": "Python 3"
    },
    "language_info": {
      "name": "python"
    },
    "accelerator": "GPU",
    "gpuClass": "standard"
  },
  "cells": [
    {
      "cell_type": "markdown",
      "metadata": {
        "id": "view-in-github",
        "colab_type": "text"
      },
      "source": [
        "<a href=\"https://colab.research.google.com/github/sinpor/sinpor.github.io/blob/master/Stable_Diffusion_WebUI.ipynb\" target=\"_parent\"><img src=\"https://colab.research.google.com/assets/colab-badge.svg\" alt=\"Open In Colab\"/></a>"
      ]
    },
    {
      "cell_type": "markdown",
      "source": [
        "注册显卡"
      ],
      "metadata": {
        "id": "fAPIRs8u4-XZ"
      }
    },
    {
      "cell_type": "code",
      "execution_count": null,
      "metadata": {
        "id": "q3BlUKlz4mrT"
      },
      "outputs": [],
      "source": [
        "!nvidia-smi -L"
      ]
    },
    {
      "cell_type": "code",
      "source": [
        "!sudo apt install wget git python3.10 python3.10-venv"
      ],
      "metadata": {
        "id": "HIZ00D1F482m"
      },
      "execution_count": null,
      "outputs": []
    },
    {
      "cell_type": "code",
      "source": [
        "!python --version"
      ],
      "metadata": {
        "id": "Du9Wwl0r9hO_"
      },
      "execution_count": null,
      "outputs": []
    },
    {
      "cell_type": "code",
      "source": [
        "%cd /content\n",
        "!rm -rf ./stable-diffusion\n",
        "!git clone https://github.com/sinpor/stable-diffusion-webui.git\n",
        "%cd /content/stable-diffusion-webui"
      ],
      "metadata": {
        "id": "dguf9xr66h4H"
      },
      "execution_count": null,
      "outputs": []
    },
    {
      "cell_type": "code",
      "source": [
        "!./webui.sh --share"
      ],
      "metadata": {
        "id": "vakdGPOw7UVE"
      },
      "execution_count": null,
      "outputs": []
    }
  ]
}