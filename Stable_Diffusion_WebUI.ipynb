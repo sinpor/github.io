{
  "nbformat": 4,
  "nbformat_minor": 0,
  "metadata": {
    "colab": {
      "provenance": [],
      "gpuType": "T4",
      "authorship_tag": "ABX9TyPzWSa/p+BW+oIZD3jC4jwq",
      "include_colab_link": true
    },
    "kernelspec": {
      "name": "python3",
      "display_name": "Python 3"
    },
    "language_info": {
      "name": "python"
    },
    "accelerator": "GPU",
    "gpuClass": "standard"
  },
  "cells": [
    {
      "cell_type": "markdown",
      "metadata": {
        "id": "view-in-github",
        "colab_type": "text"
      },
      "source": [
        "<a href=\"https://colab.research.google.com/github/sinpor/sinpor.github.io/blob/master/Stable_Diffusion_WebUI.ipynb\" target=\"_parent\"><img src=\"https://colab.research.google.com/assets/colab-badge.svg\" alt=\"Open In Colab\"/></a>"
      ]
    },
    {
      "cell_type": "markdown",
      "source": [
        "注册显卡"
      ],
      "metadata": {
        "id": "fAPIRs8u4-XZ"
      }
    },
    {
      "cell_type": "code",
      "execution_count": 2,
      "metadata": {
        "colab": {
          "base_uri": "https://localhost:8080/"
        },
        "id": "q3BlUKlz4mrT",
        "outputId": "71446fd9-8977-43f8-a72c-787c740cba90"
      },
      "outputs": [
        {
          "output_type": "stream",
          "name": "stdout",
          "text": [
            "GPU 0: Tesla T4 (UUID: GPU-d0c919fd-34a1-153a-0c92-6c813de23f52)\n"
          ]
        }
      ],
      "source": [
        "!nvidia-smi -L"
      ]
    },
    {
      "cell_type": "code",
      "source": [
        "!sudo apt install wget git python3.10 python3.10-venv"
      ],
      "metadata": {
        "colab": {
          "base_uri": "https://localhost:8080/"
        },
        "id": "HIZ00D1F482m",
        "outputId": "a31e3d14-339a-4353-d30f-a675e650f816"
      },
      "execution_count": 3,
      "outputs": [
        {
          "output_type": "stream",
          "name": "stdout",
          "text": [
            "Reading package lists... Done\n",
            "Building dependency tree       \n",
            "Reading state information... Done\n",
            "git is already the newest version (1:2.25.1-1ubuntu3.11).\n",
            "wget is already the newest version (1.20.3-1ubuntu2).\n",
            "python3.10 is already the newest version (3.10.11-1+focal1).\n",
            "The following NEW packages will be installed:\n",
            "  python3.10-venv\n",
            "0 upgraded, 1 newly installed, 0 to remove and 24 not upgraded.\n",
            "Need to get 2,931 kB of archives.\n",
            "After this operation, 3,318 kB of additional disk space will be used.\n",
            "Get:1 http://ppa.launchpad.net/deadsnakes/ppa/ubuntu focal/main amd64 python3.10-venv amd64 3.10.11-1+focal1 [2,931 kB]\n",
            "Fetched 2,931 kB in 2s (1,564 kB/s)\n",
            "debconf: unable to initialize frontend: Dialog\n",
            "debconf: (No usable dialog-like program is installed, so the dialog based frontend cannot be used. at /usr/share/perl5/Debconf/FrontEnd/Dialog.pm line 76, <> line 1.)\n",
            "debconf: falling back to frontend: Readline\n",
            "debconf: unable to initialize frontend: Readline\n",
            "debconf: (This frontend requires a controlling tty.)\n",
            "debconf: falling back to frontend: Teletype\n",
            "dpkg-preconfigure: unable to re-open stdin: \n",
            "Selecting previously unselected package python3.10-venv.\n",
            "(Reading database ... 122518 files and directories currently installed.)\n",
            "Preparing to unpack .../python3.10-venv_3.10.11-1+focal1_amd64.deb ...\n",
            "Unpacking python3.10-venv (3.10.11-1+focal1) ...\n",
            "Setting up python3.10-venv (3.10.11-1+focal1) ...\n"
          ]
        }
      ]
    },
    {
      "cell_type": "code",
      "source": [
        "!python --version"
      ],
      "metadata": {
        "colab": {
          "base_uri": "https://localhost:8080/"
        },
        "id": "Du9Wwl0r9hO_",
        "outputId": "5a031ae8-1b47-4fdd-f213-da751a1f1c3c"
      },
      "execution_count": 4,
      "outputs": [
        {
          "output_type": "stream",
          "name": "stdout",
          "text": [
            "Python 3.10.11\n"
          ]
        }
      ]
    },
    {
      "cell_type": "code",
      "source": [
        "%cd /content\n",
        "!rm -rf ./stable-diffusion\n",
        "!git clone https://github.com/sinpor/stable-diffusion-webui.git\n",
        "%cd /content/stable-diffusion-webui"
      ],
      "metadata": {
        "colab": {
          "base_uri": "https://localhost:8080/"
        },
        "id": "dguf9xr66h4H",
        "outputId": "32691c3c-51d8-4bcf-a19d-63ef3059caa3"
      },
      "execution_count": 5,
      "outputs": [
        {
          "output_type": "stream",
          "name": "stdout",
          "text": [
            "/content\n",
            "Cloning into 'stable-diffusion-webui'...\n",
            "remote: Enumerating objects: 19249, done.\u001b[K\n",
            "remote: Counting objects: 100% (44/44), done.\u001b[K\n",
            "remote: Compressing objects: 100% (29/29), done.\u001b[K\n",
            "remote: Total 19249 (delta 18), reused 30 (delta 14), pack-reused 19205\u001b[K\n",
            "Receiving objects: 100% (19249/19249), 28.96 MiB | 1.31 MiB/s, done.\n",
            "Resolving deltas: 100% (13464/13464), done.\n",
            "/content/stable-diffusion-webui\n"
          ]
        }
      ]
    },
    {
      "cell_type": "code",
      "source": [
        "!./webui.sh --share"
      ],
      "metadata": {
        "colab": {
          "base_uri": "https://localhost:8080/"
        },
        "id": "vakdGPOw7UVE",
        "outputId": "da13fc27-a4a4-4105-ca95-e53bc84df3e6"
      },
      "execution_count": 6,
      "outputs": [
        {
          "output_type": "stream",
          "name": "stdout",
          "text": [
            "Python 3.10.11\n",
            "\n",
            "################################################################\n",
            "\u001b[1m\u001b[32mInstall script for stable-diffusion + Web UI\n",
            "\u001b[1m\u001b[34mTested on Debian 11 (Bullseye)\u001b[0m\n",
            "################################################################\n",
            "\n",
            "################################################################\n",
            "Repo already cloned, using it as install directory\n",
            "################################################################\n",
            "\n",
            "################################################################\n",
            "Create and activate python venv\n",
            "################################################################\n",
            "\n",
            "################################################################\n",
            "Launching launch.py...\n",
            "################################################################\n",
            "Using TCMalloc: libtcmalloc.so.4\n",
            "Python 3.10.11 (main, Apr  5 2023, 14:15:10) [GCC 9.4.0]\n",
            "Commit hash: b5a4e85dcffa02e22c24685390834bde163f3fbc\n",
            "Installing torch and torchvision\n",
            "Looking in indexes: https://pypi.org/simple, https://us-python.pkg.dev/colab-wheels/public/simple/, https://download.pytorch.org/whl/cu118\n",
            "Collecting torch==2.0.0\n",
            "  Downloading https://download.pytorch.org/whl/cu118/torch-2.0.0%2Bcu118-cp310-cp310-linux_x86_64.whl (2267.3 MB)\n",
            "\u001b[2K     \u001b[91m━━━━━━━━━━━━━━━━━━━━━━━━━━━━━━━━━━━━━━━\u001b[0m\u001b[91m╸\u001b[0m \u001b[32m2.3/2.3 GB\u001b[0m \u001b[31m124.4 MB/s\u001b[0m eta \u001b[36m0:00:01\u001b[0mtcmalloc: large alloc 2267275264 bytes == 0x36fc000 @  0x7fa2958a1680 0x7fa2958c2824 0x5f2671 0x62913a 0x68559c 0x565d58 0x565def 0x53f76e 0x5a9c15 0x629910 0x5a9c15 0x629910 0x5a9c15 0x629910 0x5a9c15 0x629910 0x5a9c15 0x629910 0x5a9c15 0x629910 0x5a9c15 0x629910 0x5aa8c5 0x629910 0x5a9c15 0x629910 0x5a9c15 0x5a87e1 0x548a9a 0x539689 0x6a4fa6\n",
            "tcmalloc: large alloc 2834096128 bytes == 0x8a9ec000 @  0x7fa2958a1680 0x7fa2958c1da2 0x628ff9 0x68559c 0x565d58 0x565def 0x53f76e 0x5a9c15 0x629910 0x5a9c15 0x629910 0x5a9c15 0x629910 0x5a9c15 0x629910 0x5a9c15 0x629910 0x5a9c15 0x629910 0x5a9c15 0x629910 0x5aa8c5 0x629910 0x5a9c15 0x629910 0x5a9c15 0x5a87e1 0x548a9a 0x539689 0x6a4fa6 0x5ae1f3\n",
            "\u001b[2K     \u001b[91m━━━━━━━━━━━━━━━━━━━━━━━━━━━━━━━━━━━━━━━\u001b[0m\u001b[91m╸\u001b[0m \u001b[32m2.3/2.3 GB\u001b[0m \u001b[31m125.9 MB/s\u001b[0m eta \u001b[36m0:00:01\u001b[0mtcmalloc: large alloc 2267275264 bytes == 0x36fc000 @  0x7fa2958a1680 0x7fa2958c2824 0x62ee1b 0x62dbe0 0x53f76e 0x5a9c15 0x629910 0x5a9c15 0x629910 0x5a9c15 0x5a87e1 0x548a9a 0x539689 0x6a4fa6 0x5ae1f3 0x54863a 0x5ae1f3 0x54863a 0x5ae1f3 0x629910 0x5a9c15 0x54863a 0x5aa8c5 0x53e65a 0x5a9efb 0x53e65a 0x5a9efb 0x53e65a 0x5a9efb 0x629910 0x62c449\n",
            "\u001b[2K     \u001b[90m━━━━━━━━━━━━━━━━━━━━━━━━━━━━━━━━━━━━━━━━\u001b[0m \u001b[32m2.3/2.3 GB\u001b[0m \u001b[31m746.7 kB/s\u001b[0m eta \u001b[36m0:00:00\u001b[0m\n",
            "\u001b[?25hCollecting torchvision==0.15.1\n",
            "  Downloading https://download.pytorch.org/whl/cu118/torchvision-0.15.1%2Bcu118-cp310-cp310-linux_x86_64.whl (6.1 MB)\n",
            "\u001b[2K     \u001b[90m━━━━━━━━━━━━━━━━━━━━━━━━━━━━━━━━━━━━━━━━\u001b[0m \u001b[32m6.1/6.1 MB\u001b[0m \u001b[31m35.1 MB/s\u001b[0m eta \u001b[36m0:00:00\u001b[0m\n",
            "\u001b[?25hCollecting filelock\n",
            "  Downloading filelock-3.12.0-py3-none-any.whl (10 kB)\n",
            "Collecting triton==2.0.0\n",
            "  Downloading https://download.pytorch.org/whl/triton-2.0.0-1-cp310-cp310-manylinux2014_x86_64.manylinux_2_17_x86_64.whl (63.3 MB)\n",
            "\u001b[2K     \u001b[90m━━━━━━━━━━━━━━━━━━━━━━━━━━━━━━━━━━━━━━━━\u001b[0m \u001b[32m63.3/63.3 MB\u001b[0m \u001b[31m13.2 MB/s\u001b[0m eta \u001b[36m0:00:00\u001b[0m\n",
            "\u001b[?25hCollecting typing-extensions\n",
            "  Downloading typing_extensions-4.5.0-py3-none-any.whl (27 kB)\n",
            "Collecting jinja2\n",
            "  Downloading https://download.pytorch.org/whl/Jinja2-3.1.2-py3-none-any.whl (133 kB)\n",
            "\u001b[2K     \u001b[90m━━━━━━━━━━━━━━━━━━━━━━━━━━━━━━━━━━━━━━\u001b[0m \u001b[32m133.1/133.1 kB\u001b[0m \u001b[31m20.4 MB/s\u001b[0m eta \u001b[36m0:00:00\u001b[0m\n",
            "\u001b[?25hCollecting networkx\n",
            "  Downloading networkx-3.1-py3-none-any.whl (2.1 MB)\n",
            "\u001b[2K     \u001b[90m━━━━━━━━━━━━━━━━━━━━━━━━━━━━━━━━━━━━━━━━\u001b[0m \u001b[32m2.1/2.1 MB\u001b[0m \u001b[31m84.8 MB/s\u001b[0m eta \u001b[36m0:00:00\u001b[0m\n",
            "\u001b[?25hCollecting sympy\n",
            "  Downloading https://download.pytorch.org/whl/sympy-1.11.1-py3-none-any.whl (6.5 MB)\n",
            "\u001b[2K     \u001b[90m━━━━━━━━━━━━━━━━━━━━━━━━━━━━━━━━━━━━━━━━\u001b[0m \u001b[32m6.5/6.5 MB\u001b[0m \u001b[31m107.7 MB/s\u001b[0m eta \u001b[36m0:00:00\u001b[0m\n",
            "\u001b[?25hCollecting requests\n",
            "  Downloading requests-2.30.0-py3-none-any.whl (62 kB)\n",
            "\u001b[2K     \u001b[90m━━━━━━━━━━━━━━━━━━━━━━━━━━━━━━━━━━━━━━━━\u001b[0m \u001b[32m62.5/62.5 kB\u001b[0m \u001b[31m8.5 MB/s\u001b[0m eta \u001b[36m0:00:00\u001b[0m\n",
            "\u001b[?25hCollecting pillow!=8.3.*,>=5.3.0\n",
            "  Downloading Pillow-9.5.0-cp310-cp310-manylinux_2_28_x86_64.whl (3.4 MB)\n",
            "\u001b[2K     \u001b[90m━━━━━━━━━━━━━━━━━━━━━━━━━━━━━━━━━━━━━━━━\u001b[0m \u001b[32m3.4/3.4 MB\u001b[0m \u001b[31m76.8 MB/s\u001b[0m eta \u001b[36m0:00:00\u001b[0m\n",
            "\u001b[?25hCollecting numpy\n",
            "  Downloading numpy-1.24.3-cp310-cp310-manylinux_2_17_x86_64.manylinux2014_x86_64.whl (17.3 MB)\n",
            "\u001b[2K     \u001b[90m━━━━━━━━━━━━━━━━━━━━━━━━━━━━━━━━━━━━━━━━\u001b[0m \u001b[32m17.3/17.3 MB\u001b[0m \u001b[31m85.0 MB/s\u001b[0m eta \u001b[36m0:00:00\u001b[0m\n",
            "\u001b[?25hCollecting cmake\n",
            "  Downloading cmake-3.26.3-py2.py3-none-manylinux2014_x86_64.manylinux_2_17_x86_64.whl (24.0 MB)\n",
            "\u001b[2K     \u001b[90m━━━━━━━━━━━━━━━━━━━━━━━━━━━━━━━━━━━━━━━━\u001b[0m \u001b[32m24.0/24.0 MB\u001b[0m \u001b[31m34.9 MB/s\u001b[0m eta \u001b[36m0:00:00\u001b[0m\n",
            "\u001b[?25hCollecting lit\n",
            "  Downloading lit-16.0.3.tar.gz (138 kB)\n",
            "\u001b[2K     \u001b[90m━━━━━━━━━━━━━━━━━━━━━━━━━━━━━━━━━━━━━━\u001b[0m \u001b[32m138.0/138.0 kB\u001b[0m \u001b[31m17.2 MB/s\u001b[0m eta \u001b[36m0:00:00\u001b[0m\n",
            "\u001b[?25h  Preparing metadata (setup.py) ... \u001b[?25l\u001b[?25hdone\n",
            "Collecting MarkupSafe>=2.0\n",
            "  Downloading https://download.pytorch.org/whl/MarkupSafe-2.1.2-cp310-cp310-manylinux_2_17_x86_64.manylinux2014_x86_64.whl (25 kB)\n",
            "Collecting certifi>=2017.4.17\n",
            "  Downloading certifi-2023.5.7-py3-none-any.whl (156 kB)\n",
            "\u001b[2K     \u001b[90m━━━━━━━━━━━━━━━━━━━━━━━━━━━━━━━━━━━━━━\u001b[0m \u001b[32m157.0/157.0 kB\u001b[0m \u001b[31m23.1 MB/s\u001b[0m eta \u001b[36m0:00:00\u001b[0m\n",
            "\u001b[?25hCollecting charset-normalizer<4,>=2\n",
            "  Downloading charset_normalizer-3.1.0-cp310-cp310-manylinux_2_17_x86_64.manylinux2014_x86_64.whl (199 kB)\n",
            "\u001b[2K     \u001b[90m━━━━━━━━━━━━━━━━━━━━━━━━━━━━━━━━━━━━━━━\u001b[0m \u001b[32m199.3/199.3 kB\u001b[0m \u001b[31m5.8 MB/s\u001b[0m eta \u001b[36m0:00:00\u001b[0m\n",
            "\u001b[?25hCollecting urllib3<3,>=1.21.1\n",
            "  Downloading urllib3-2.0.2-py3-none-any.whl (123 kB)\n",
            "\u001b[2K     \u001b[90m━━━━━━━━━━━━━━━━━━━━━━━━━━━━━━━━━━━━━━\u001b[0m \u001b[32m123.2/123.2 kB\u001b[0m \u001b[31m16.4 MB/s\u001b[0m eta \u001b[36m0:00:00\u001b[0m\n",
            "\u001b[?25hCollecting idna<4,>=2.5\n",
            "  Downloading https://download.pytorch.org/whl/idna-3.4-py3-none-any.whl (61 kB)\n",
            "\u001b[2K     \u001b[90m━━━━━━━━━━━━━━━━━━━━━━━━━━━━━━━━━━━━━━━━\u001b[0m \u001b[32m61.5/61.5 kB\u001b[0m \u001b[31m7.9 MB/s\u001b[0m eta \u001b[36m0:00:00\u001b[0m\n",
            "\u001b[?25hCollecting mpmath>=0.19\n",
            "  Downloading mpmath-1.3.0-py3-none-any.whl (536 kB)\n",
            "\u001b[2K     \u001b[90m━━━━━━━━━━━━━━━━━━━━━━━━━━━━━━━━━━━━━━\u001b[0m \u001b[32m536.2/536.2 kB\u001b[0m \u001b[31m46.8 MB/s\u001b[0m eta \u001b[36m0:00:00\u001b[0m\n",
            "\u001b[?25hInstalling collected packages: mpmath, lit, cmake, urllib3, typing-extensions, sympy, pillow, numpy, networkx, MarkupSafe, idna, filelock, charset-normalizer, certifi, requests, jinja2, triton, torch, torchvision\n",
            "\u001b[33m  DEPRECATION: lit is being installed using the legacy 'setup.py install' method, because it does not have a 'pyproject.toml' and the 'wheel' package is not installed. pip 23.1 will enforce this behaviour change. A possible replacement is to enable the '--use-pep517' option. Discussion can be found at https://github.com/pypa/pip/issues/8559\u001b[0m\u001b[33m\n",
            "\u001b[0m  Running setup.py install for lit ... \u001b[?25l\u001b[?25hdone\n",
            "Successfully installed MarkupSafe-2.1.2 certifi-2023.5.7 charset-normalizer-3.1.0 cmake-3.26.3 filelock-3.12.0 idna-3.4 jinja2-3.1.2 lit-16.0.3 mpmath-1.3.0 networkx-3.1 numpy-1.24.3 pillow-9.5.0 requests-2.30.0 sympy-1.11.1 torch-2.0.0+cu118 torchvision-0.15.1+cu118 triton-2.0.0 typing-extensions-4.5.0 urllib3-2.0.2\n",
            "Installing gfpgan\n",
            "Installing clip\n",
            "Installing open_clip\n",
            "Cloning Stable Diffusion into /content/stable-diffusion-webui/repositories/stable-diffusion-stability-ai...\n",
            "Cloning Taming Transformers into /content/stable-diffusion-webui/repositories/taming-transformers...\n",
            "Cloning K-diffusion into /content/stable-diffusion-webui/repositories/k-diffusion...\n",
            "Cloning CodeFormer into /content/stable-diffusion-webui/repositories/CodeFormer...\n",
            "Cloning BLIP into /content/stable-diffusion-webui/repositories/BLIP...\n",
            "Installing requirements for CodeFormer\n",
            "Installing requirements\n",
            "Launching Web UI with arguments: share=True\n",
            "usage: launch.py\n",
            "       [-h]\n",
            "       [--update-all-extensions]\n",
            "       [--skip-python-version-check]\n",
            "       [--skip-torch-cuda-test]\n",
            "       [--reinstall-xformers]\n",
            "       [--reinstall-torch]\n",
            "       [--update-check]\n",
            "       [--tests TESTS]\n",
            "       [--no-tests]\n",
            "       [--skip-install]\n",
            "       [--data-dir DATA_DIR]\n",
            "       [--config CONFIG]\n",
            "       [--ckpt CKPT]\n",
            "       [--ckpt-dir CKPT_DIR]\n",
            "       [--vae-dir VAE_DIR]\n",
            "       [--gfpgan-dir GFPGAN_DIR]\n",
            "       [--gfpgan-model GFPGAN_MODEL]\n",
            "       [--no-half]\n",
            "       [--no-half-vae]\n",
            "       [--no-progressbar-hiding]\n",
            "       [--max-batch-count MAX_BATCH_COUNT]\n",
            "       [--embeddings-dir EMBEDDINGS_DIR]\n",
            "       [--textual-inversion-templates-dir TEXTUAL_INVERSION_TEMPLATES_DIR]\n",
            "       [--hypernetwork-dir HYPERNETWORK_DIR]\n",
            "       [--localizations-dir LOCALIZATIONS_DIR]\n",
            "       [--allow-code]\n",
            "       [--medvram]\n",
            "       [--lowvram]\n",
            "       [--lowram]\n",
            "       [--always-batch-cond-uncond]\n",
            "       [--unload-gfpgan]\n",
            "       [--precision {full,autocast}]\n",
            "       [--upcast-sampling]\n",
            "       [--share]\n",
            "       [--ngrok NGROK]\n",
            "       [--ngrok-region NGROK_REGION]\n",
            "       [--enable-insecure-extension-access]\n",
            "       [--codeformer-models-path CODEFORMER_MODELS_PATH]\n",
            "       [--gfpgan-models-path GFPGAN_MODELS_PATH]\n",
            "       [--esrgan-models-path ESRGAN_MODELS_PATH]\n",
            "       [--bsrgan-models-path BSRGAN_MODELS_PATH]\n",
            "       [--realesrgan-models-path REALESRGAN_MODELS_PATH]\n",
            "       [--clip-models-path CLIP_MODELS_PATH]\n",
            "       [--xformers]\n",
            "       [--force-enable-xformers]\n",
            "       [--xformers-flash-attention]\n",
            "       [--deepdanbooru]\n",
            "       [--opt-split-attention]\n",
            "       [--opt-sub-quad-attention]\n",
            "       [--sub-quad-q-chunk-size SUB_QUAD_Q_CHUNK_SIZE]\n",
            "       [--sub-quad-kv-chunk-size SUB_QUAD_KV_CHUNK_SIZE]\n",
            "       [--sub-quad-chunk-threshold SUB_QUAD_CHUNK_THRESHOLD]\n",
            "       [--opt-split-attention-invokeai]\n",
            "       [--opt-split-attention-v1]\n",
            "       [--opt-sdp-attention]\n",
            "       [--opt-sdp-no-mem-attention]\n",
            "       [--disable-opt-split-attention]\n",
            "       [--disable-nan-check]\n",
            "       [--use-cpu USE_CPU [USE_CPU ...]]\n",
            "       [--listen]\n",
            "       [--port PORT]\n",
            "       [--show-negative-prompt]\n",
            "       [--ui-config-file UI_CONFIG_FILE]\n",
            "       [--hide-ui-dir-config]\n",
            "       [--freeze-settings]\n",
            "       [--ui-settings-file UI_SETTINGS_FILE]\n",
            "       [--gradio-debug]\n",
            "       [--gradio-auth GRADIO_AUTH]\n",
            "       [--gradio-auth-path GRADIO_AUTH_PATH]\n",
            "       [--gradio-img2img-tool GRADIO_IMG2IMG_TOOL]\n",
            "       [--gradio-inpaint-tool GRADIO_INPAINT_TOOL]\n",
            "       [--opt-channelslast]\n",
            "       [--styles-file STYLES_FILE]\n",
            "       [--autolaunch]\n",
            "       [--theme THEME]\n",
            "       [--use-textbox-seed]\n",
            "       [--disable-console-progressbars]\n",
            "       [--enable-console-prompts]\n",
            "       [--vae-path VAE_PATH]\n",
            "       [--disable-safe-unpickle]\n",
            "       [--api]\n",
            "       [--api-auth API_AUTH]\n",
            "       [--api-log]\n",
            "       [--nowebui]\n",
            "       [--ui-debug-mode]\n",
            "       [--device-id DEVICE_ID]\n",
            "       [--administrator]\n",
            "       [--cors-allow-origins CORS_ALLOW_ORIGINS]\n",
            "       [--cors-allow-origins-regex CORS_ALLOW_ORIGINS_REGEX]\n",
            "       [--tls-keyfile TLS_KEYFILE]\n",
            "       [--tls-certfile TLS_CERTFILE]\n",
            "       [--disable-tls-verify]\n",
            "       [--server-name SERVER_NAME]\n",
            "       [--gradio-queue]\n",
            "       [--no-gradio-queue]\n",
            "       [--skip-version-check]\n",
            "       [--no-hashing]\n",
            "       [--no-download-sd-model]\n",
            "       [--ldsr-models-path LDSR_MODELS_PATH]\n",
            "       [--lora-dir LORA_DIR]\n",
            "       [--scunet-models-path SCUNET_MODELS_PATH]\n",
            "       [--swinir-models-path SWINIR_MODELS_PATH]\n",
            "launch.py: error: unrecognized arguments: share=True\n"
          ]
        }
      ]
    }
  ]
}